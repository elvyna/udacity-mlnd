{
 "cells": [
  {
   "cell_type": "markdown",
   "metadata": {},
   "source": [
    "# Data Preparation"
   ]
  },
  {
   "cell_type": "code",
   "execution_count": 33,
   "metadata": {},
   "outputs": [],
   "source": [
    "# import basic modules\n",
    "import pandas as pd\n",
    "import numpy as np\n",
    "import seaborn as sns\n",
    "from tqdm import tqdm, tqdm_pandas\n",
    "import matplotlib.pyplot as plt\n",
    "%matplotlib inline\n",
    "\n",
    "\n",
    "plt.style.use('bmh')"
   ]
  },
  {
   "cell_type": "code",
   "execution_count": 34,
   "metadata": {},
   "outputs": [],
   "source": [
    "# import dataset\n",
    "train = pd.read_csv(\"../dataset/train.csv\")\n",
    "# train = pd.read_csv(\"../dataset/train_feats_init.csv\")"
   ]
  },
  {
   "cell_type": "code",
   "execution_count": 35,
   "metadata": {},
   "outputs": [
    {
     "name": "stdout",
     "output_type": "stream",
     "text": [
      "Training data:  (404290, 6)\n",
      "Test data:  (2345796, 3)\n"
     ]
    }
   ],
   "source": [
    "print(\"Training data: \", train.shape)"
   ]
  },
  {
   "cell_type": "code",
   "execution_count": 36,
   "metadata": {},
   "outputs": [
    {
     "name": "stdout",
     "output_type": "stream",
     "text": [
      "<class 'pandas.core.frame.DataFrame'>\n",
      "RangeIndex: 404290 entries, 0 to 404289\n",
      "Data columns (total 6 columns):\n",
      "id              404290 non-null int64\n",
      "qid1            404290 non-null int64\n",
      "qid2            404290 non-null int64\n",
      "question1       404290 non-null object\n",
      "question2       404288 non-null object\n",
      "is_duplicate    404290 non-null int64\n",
      "dtypes: int64(4), object(2)\n",
      "memory usage: 18.5+ MB\n"
     ]
    }
   ],
   "source": [
    "train.info()"
   ]
  },
  {
   "cell_type": "markdown",
   "metadata": {},
   "source": [
    "There are 2 records with null `question2` field on training set, we'll observe the records' content."
   ]
  },
  {
   "cell_type": "code",
   "execution_count": 37,
   "metadata": {},
   "outputs": [
    {
     "data": {
      "text/html": [
       "<div>\n",
       "<style>\n",
       "    .dataframe thead tr:only-child th {\n",
       "        text-align: right;\n",
       "    }\n",
       "\n",
       "    .dataframe thead th {\n",
       "        text-align: left;\n",
       "    }\n",
       "\n",
       "    .dataframe tbody tr th {\n",
       "        vertical-align: top;\n",
       "    }\n",
       "</style>\n",
       "<table border=\"1\" class=\"dataframe\">\n",
       "  <thead>\n",
       "    <tr style=\"text-align: right;\">\n",
       "      <th></th>\n",
       "      <th>id</th>\n",
       "      <th>qid1</th>\n",
       "      <th>qid2</th>\n",
       "      <th>question1</th>\n",
       "      <th>question2</th>\n",
       "      <th>is_duplicate</th>\n",
       "    </tr>\n",
       "  </thead>\n",
       "  <tbody>\n",
       "    <tr>\n",
       "      <th>105780</th>\n",
       "      <td>105780</td>\n",
       "      <td>174363</td>\n",
       "      <td>174364</td>\n",
       "      <td>How can I develop android app?</td>\n",
       "      <td>NaN</td>\n",
       "      <td>0</td>\n",
       "    </tr>\n",
       "    <tr>\n",
       "      <th>201841</th>\n",
       "      <td>201841</td>\n",
       "      <td>303951</td>\n",
       "      <td>174364</td>\n",
       "      <td>How can I create an Android app?</td>\n",
       "      <td>NaN</td>\n",
       "      <td>0</td>\n",
       "    </tr>\n",
       "  </tbody>\n",
       "</table>\n",
       "</div>"
      ],
      "text/plain": [
       "            id    qid1    qid2                         question1 question2  \\\n",
       "105780  105780  174363  174364    How can I develop android app?       NaN   \n",
       "201841  201841  303951  174364  How can I create an Android app?       NaN   \n",
       "\n",
       "        is_duplicate  \n",
       "105780             0  \n",
       "201841             0  "
      ]
     },
     "execution_count": 37,
     "metadata": {},
     "output_type": "execute_result"
    }
   ],
   "source": [
    "train[(train['question2'].isnull())]"
   ]
  },
  {
   "cell_type": "markdown",
   "metadata": {},
   "source": [
    "It seems that both questions are actually duplicate pair, but for now we'll replace them with empty string and trust the `is_duplicate` label.\n",
    "\n",
    "**UPDATE: to improve our training set, we'll set the pairs as is_duplicate = 1 (see Data Augmentation section)**"
   ]
  },
  {
   "cell_type": "code",
   "execution_count": 38,
   "metadata": {},
   "outputs": [
    {
     "name": "stdout",
     "output_type": "stream",
     "text": [
      "Fill null values with empty string...\n"
     ]
    }
   ],
   "source": [
    "print(\"Fill null values with empty string...\")\n",
    "train['question1'].fillna('', inplace=True)\n",
    "train['question2'].fillna('', inplace=True)"
   ]
  },
  {
   "cell_type": "code",
   "execution_count": 42,
   "metadata": {},
   "outputs": [
    {
     "data": {
      "text/html": [
       "<div>\n",
       "<style>\n",
       "    .dataframe thead tr:only-child th {\n",
       "        text-align: right;\n",
       "    }\n",
       "\n",
       "    .dataframe thead th {\n",
       "        text-align: left;\n",
       "    }\n",
       "\n",
       "    .dataframe tbody tr th {\n",
       "        vertical-align: top;\n",
       "    }\n",
       "</style>\n",
       "<table border=\"1\" class=\"dataframe\">\n",
       "  <thead>\n",
       "    <tr style=\"text-align: right;\">\n",
       "      <th></th>\n",
       "      <th>id</th>\n",
       "      <th>qid1</th>\n",
       "      <th>qid2</th>\n",
       "      <th>question1</th>\n",
       "      <th>question2</th>\n",
       "      <th>is_duplicate</th>\n",
       "    </tr>\n",
       "  </thead>\n",
       "  <tbody>\n",
       "    <tr>\n",
       "      <th>0</th>\n",
       "      <td>0</td>\n",
       "      <td>1</td>\n",
       "      <td>2</td>\n",
       "      <td>What is the step by step guide to invest in sh...</td>\n",
       "      <td>What is the step by step guide to invest in sh...</td>\n",
       "      <td>0</td>\n",
       "    </tr>\n",
       "    <tr>\n",
       "      <th>1</th>\n",
       "      <td>1</td>\n",
       "      <td>3</td>\n",
       "      <td>4</td>\n",
       "      <td>What is the story of Kohinoor (Koh-i-Noor) Dia...</td>\n",
       "      <td>What would happen if the Indian government sto...</td>\n",
       "      <td>0</td>\n",
       "    </tr>\n",
       "    <tr>\n",
       "      <th>2</th>\n",
       "      <td>2</td>\n",
       "      <td>5</td>\n",
       "      <td>6</td>\n",
       "      <td>How can I increase the speed of my internet co...</td>\n",
       "      <td>How can Internet speed be increased by hacking...</td>\n",
       "      <td>0</td>\n",
       "    </tr>\n",
       "  </tbody>\n",
       "</table>\n",
       "</div>"
      ],
      "text/plain": [
       "   id  qid1  qid2                                          question1  \\\n",
       "0   0     1     2  What is the step by step guide to invest in sh...   \n",
       "1   1     3     4  What is the story of Kohinoor (Koh-i-Noor) Dia...   \n",
       "2   2     5     6  How can I increase the speed of my internet co...   \n",
       "\n",
       "                                           question2  is_duplicate  \n",
       "0  What is the step by step guide to invest in sh...             0  \n",
       "1  What would happen if the Indian government sto...             0  \n",
       "2  How can Internet speed be increased by hacking...             0  "
      ]
     },
     "execution_count": 42,
     "metadata": {},
     "output_type": "execute_result"
    }
   ],
   "source": [
    "train.head(3)"
   ]
  },
  {
   "cell_type": "code",
   "execution_count": 43,
   "metadata": {},
   "outputs": [
    {
     "data": {
      "image/png": "[encoded data removed]",
      "text/plain": [
       "<matplotlib.figure.Figure at 0x7fe31d492668>"
      ]
     },
     "metadata": {},
     "output_type": "display_data"
    }
   ],
   "source": [
    "f, ax = plt.subplots(figsize=(12,6))\n",
    "train.groupby('is_duplicate').agg({'id': 'count'}).reset_index().sort_values(by='id',ascending=False).plot(kind='barh', ax=ax, x='is_duplicate', y='id')\n",
    "ax.legend(['Question pair count'])\n",
    "ax.set_title(\"Do the two classes have balanced data?\")\n",
    "ax.set_xlabel(\"Number of records\")\n",
    "plt.show();"
   ]
  },
  {
   "cell_type": "code",
   "execution_count": 44,
   "metadata": {},
   "outputs": [
    {
     "data": {
      "text/html": [
       "<div>\n",
       "<style>\n",
       "    .dataframe thead tr:only-child th {\n",
       "        text-align: right;\n",
       "    }\n",
       "\n",
       "    .dataframe thead th {\n",
       "        text-align: left;\n",
       "    }\n",
       "\n",
       "    .dataframe tbody tr th {\n",
       "        vertical-align: top;\n",
       "    }\n",
       "</style>\n",
       "<table border=\"1\" class=\"dataframe\">\n",
       "  <thead>\n",
       "    <tr style=\"text-align: right;\">\n",
       "      <th></th>\n",
       "      <th>is_duplicate</th>\n",
       "      <th>count</th>\n",
       "      <th>pct</th>\n",
       "    </tr>\n",
       "  </thead>\n",
       "  <tbody>\n",
       "    <tr>\n",
       "      <th>0</th>\n",
       "      <td>0</td>\n",
       "      <td>255025</td>\n",
       "      <td>63.07972</td>\n",
       "    </tr>\n",
       "    <tr>\n",
       "      <th>1</th>\n",
       "      <td>1</td>\n",
       "      <td>149265</td>\n",
       "      <td>36.92028</td>\n",
       "    </tr>\n",
       "  </tbody>\n",
       "</table>\n",
       "</div>"
      ],
      "text/plain": [
       "   is_duplicate   count       pct\n",
       "0             0  255025  63.07972\n",
       "1             1  149265  36.92028"
      ]
     },
     "execution_count": 44,
     "metadata": {},
     "output_type": "execute_result"
    }
   ],
   "source": [
    "train_agg = train.groupby('is_duplicate').agg({'id': 'count'}).reset_index().rename(columns={'id':'count'})\n",
    "train_agg['pct'] = 100.00 * train_agg['count'] / np.sum(train_agg['count'])\n",
    "train_agg"
   ]
  },
  {
   "cell_type": "markdown",
   "metadata": {},
   "source": [
    "We have rather imbalanced dataset here."
   ]
  },
  {
   "cell_type": "markdown",
   "metadata": {},
   "source": [
    "# Data Augmentation\n",
    "\n",
    "Purpose: add 50% of duplicate records for duplicate class, so the dataset will have more balanced class.\n",
    "We will replace *question1* to its synonyms."
   ]
  },
  {
   "cell_type": "code",
   "execution_count": 52,
   "metadata": {},
   "outputs": [],
   "source": [
    "duplicate_qid = []\n",
    "\n",
    "for ix, row in train[(train['is_duplicate'] == 1)].iterrows():\n",
    "    duplicate_qid.append(row['id'])"
   ]
  },
  {
   "cell_type": "code",
   "execution_count": 100,
   "metadata": {},
   "outputs": [],
   "source": [
    "augmented_qid = []\n",
    "for i in range(0, np.int64(np.round(len(duplicate_qid) * 0.5))):\n",
    "    augmented_qid.append(np.random.choice(duplicate_qid, replace=False))\n",
    "    \n",
    "augmented_df = pd.DataFrame(columns=['id','qid1','qid2','question1','question2','is_duplicate'])\n",
    "for i in augmented_qid:\n",
    "    augmented_df = augmented_df.append(train[(train['id'] == i)])"
   ]
  },
  {
   "cell_type": "code",
   "execution_count": 149,
   "metadata": {},
   "outputs": [],
   "source": [
    "import nltk\n",
    "from nltk.tokenize import word_tokenize\n",
    "from nltk.corpus import wordnet\n",
    "\n",
    "question1_syn = []\n",
    "\n",
    "for ix, row in augmented_df.iterrows():\n",
    "    words = word_tokenize(row['question1'])\n",
    "    tagged = nltk.pos_tag(words)\n",
    "    output = ''\n",
    "\n",
    "    for i in range(0,len(words)):\n",
    "        replacements = []\n",
    "\n",
    "        # Only replace nouns with nouns, vowels with vowels etc.\n",
    "        for syn in wordnet.synsets(words[i]):\n",
    "\n",
    "            # Do not attempt to replace proper nouns or determiners or conjunctions or WH-pronoun\n",
    "            if tagged[i][1] == 'NNP' or tagged[i][1] == 'DT' or tagged[i][1] == 'CC' or tagged[i][1] == 'WP':\n",
    "                break\n",
    "\n",
    "            # The tokenizer returns strings like NNP, VBP etc\n",
    "            # but the wordnet synonyms has tags like .n.\n",
    "            # So we extract the first character from NNP ie n\n",
    "            # then we check if the dictionary word has a .n. or not \n",
    "            word_type = tagged[i][1][0].lower()\n",
    "            if syn.name().find(\".\"+word_type+\".\"):\n",
    "                # extract the word only\n",
    "                r = syn.name()[0:syn.name().find(\".\")]\n",
    "                replacements.append(r)\n",
    "\n",
    "        if len(replacements) > 0:\n",
    "            # Choose a random replacement\n",
    "            replacement = replacements[np.random.randint(0,len(replacements))]\n",
    "            output = output + \" \" + replacement\n",
    "        else:\n",
    "            # If no replacement could be found, then just use the\n",
    "            # original word\n",
    "            output = output + \" \" + words[i]\n",
    "\n",
    "    question1_syn.append(output)"
   ]
  },
  {
   "cell_type": "code",
   "execution_count": 150,
   "metadata": {},
   "outputs": [],
   "source": [
    "augmented_df['question1_bak'] = augmented_df['question1']\n",
    "augmented_df['question1'] = question1_syn"
   ]
  },
  {
   "cell_type": "code",
   "execution_count": 154,
   "metadata": {
    "scrolled": true
   },
   "outputs": [
    {
     "data": {
      "text/html": [
       "<div>\n",
       "<style>\n",
       "    .dataframe thead tr:only-child th {\n",
       "        text-align: right;\n",
       "    }\n",
       "\n",
       "    .dataframe thead th {\n",
       "        text-align: left;\n",
       "    }\n",
       "\n",
       "    .dataframe tbody tr th {\n",
       "        vertical-align: top;\n",
       "    }\n",
       "</style>\n",
       "<table border=\"1\" class=\"dataframe\">\n",
       "  <thead>\n",
       "    <tr style=\"text-align: right;\">\n",
       "      <th></th>\n",
       "      <th>id</th>\n",
       "      <th>qid1</th>\n",
       "      <th>qid2</th>\n",
       "      <th>question1</th>\n",
       "      <th>question2</th>\n",
       "      <th>is_duplicate</th>\n",
       "      <th>question1_bak</th>\n",
       "    </tr>\n",
       "  </thead>\n",
       "  <tbody>\n",
       "    <tr>\n",
       "      <th>171176</th>\n",
       "      <td>171176</td>\n",
       "      <td>264544</td>\n",
       "      <td>264545</td>\n",
       "      <td>What be some common idea that buttocks resolv...</td>\n",
       "      <td>What are some ideas that can solve the regular...</td>\n",
       "      <td>1</td>\n",
       "      <td>What are some common ideas that can solve the ...</td>\n",
       "    </tr>\n",
       "    <tr>\n",
       "      <th>64318</th>\n",
       "      <td>64318</td>\n",
       "      <td>111781</td>\n",
       "      <td>111782</td>\n",
       "      <td>What perform `` net worth '' entail ?</td>\n",
       "      <td>What does net worth mean?</td>\n",
       "      <td>1</td>\n",
       "      <td>What does \"net worth\" mean?</td>\n",
       "    </tr>\n",
       "    <tr>\n",
       "      <th>217667</th>\n",
       "      <td>217667</td>\n",
       "      <td>18758</td>\n",
       "      <td>2921</td>\n",
       "      <td>How effective be quarrel five_hundred and tho...</td>\n",
       "      <td>Would demonetization of 500 and 1000 rupee not...</td>\n",
       "      <td>1</td>\n",
       "      <td>How effective is scrapping 500 and 1000 rupee ...</td>\n",
       "    </tr>\n",
       "  </tbody>\n",
       "</table>\n",
       "</div>"
      ],
      "text/plain": [
       "            id    qid1    qid2  \\\n",
       "171176  171176  264544  264545   \n",
       "64318    64318  111781  111782   \n",
       "217667  217667   18758    2921   \n",
       "\n",
       "                                                question1  \\\n",
       "171176   What be some common idea that buttocks resolv...   \n",
       "64318               What perform `` net worth '' entail ?   \n",
       "217667   How effective be quarrel five_hundred and tho...   \n",
       "\n",
       "                                                question2 is_duplicate  \\\n",
       "171176  What are some ideas that can solve the regular...            1   \n",
       "64318                           What does net worth mean?            1   \n",
       "217667  Would demonetization of 500 and 1000 rupee not...            1   \n",
       "\n",
       "                                            question1_bak  \n",
       "171176  What are some common ideas that can solve the ...  \n",
       "64318                         What does \"net worth\" mean?  \n",
       "217667  How effective is scrapping 500 and 1000 rupee ...  "
      ]
     },
     "execution_count": 154,
     "metadata": {},
     "output_type": "execute_result"
    }
   ],
   "source": [
    "augmented_df.tail(3)"
   ]
  },
  {
   "cell_type": "code",
   "execution_count": 153,
   "metadata": {},
   "outputs": [],
   "source": [
    "train_augment = train.copy()\n",
    "train_augment = train_augment.append(augmented_df)"
   ]
  },
  {
   "cell_type": "code",
   "execution_count": null,
   "metadata": {},
   "outputs": [],
   "source": [
    "# repair the label of those 2 questions with empty question2\n",
    "q1_text = {}\n",
    "\n",
    "for ix, row in train_augment[(train_augment['question2'] == '')].iterrows():\n",
    "    q1_text[row['id']] = (row['question1'])\n",
    "\n",
    "for key, value in q1_text.items():\n",
    "    train_augment['question2'] = train_augment.apply(lambda x: value if (x['question2'] == '') & (x['id'] != key) else x['question2'], axis=1)\n",
    "    train_augment['is_duplicate'] = train_augment.apply(lambda x: 1 if (x['id'] == key) else x['is_duplicate'], axis=1)"
   ]
  },
  {
   "cell_type": "code",
   "execution_count": 156,
   "metadata": {},
   "outputs": [
    {
     "data": {
      "image/png": "[encoded data removed]",
      "text/plain": [
       "<matplotlib.figure.Figure at 0x7fe3051e3710>"
      ]
     },
     "metadata": {},
     "output_type": "display_data"
    }
   ],
   "source": [
    "f, ax = plt.subplots(figsize=(12,6))\n",
    "train_augment.groupby('is_duplicate').agg({'id': 'count'}).reset_index().sort_values(by='id',ascending=False).plot(kind='barh', ax=ax, x='is_duplicate', y='id')\n",
    "ax.legend(['Question pair count'])\n",
    "ax.set_title(\"Do the two classes have balanced data? - POST AUGMENTATION\")\n",
    "ax.set_xlabel(\"Number of records\")\n",
    "plt.show();"
   ]
  },
  {
   "cell_type": "code",
   "execution_count": 157,
   "metadata": {},
   "outputs": [
    {
     "data": {
      "text/html": [
       "<div>\n",
       "<style>\n",
       "    .dataframe thead tr:only-child th {\n",
       "        text-align: right;\n",
       "    }\n",
       "\n",
       "    .dataframe thead th {\n",
       "        text-align: left;\n",
       "    }\n",
       "\n",
       "    .dataframe tbody tr th {\n",
       "        vertical-align: top;\n",
       "    }\n",
       "</style>\n",
       "<table border=\"1\" class=\"dataframe\">\n",
       "  <thead>\n",
       "    <tr style=\"text-align: right;\">\n",
       "      <th></th>\n",
       "      <th>is_duplicate</th>\n",
       "      <th>count</th>\n",
       "      <th>pct</th>\n",
       "    </tr>\n",
       "  </thead>\n",
       "  <tbody>\n",
       "    <tr>\n",
       "      <th>0</th>\n",
       "      <td>0</td>\n",
       "      <td>255025</td>\n",
       "      <td>53.249799</td>\n",
       "    </tr>\n",
       "    <tr>\n",
       "      <th>1</th>\n",
       "      <td>1</td>\n",
       "      <td>223897</td>\n",
       "      <td>46.750201</td>\n",
       "    </tr>\n",
       "  </tbody>\n",
       "</table>\n",
       "</div>"
      ],
      "text/plain": [
       "   is_duplicate   count        pct\n",
       "0             0  255025  53.249799\n",
       "1             1  223897  46.750201"
      ]
     },
     "execution_count": 157,
     "metadata": {},
     "output_type": "execute_result"
    }
   ],
   "source": [
    "train_agg = train_augment.groupby('is_duplicate').agg({'id': 'count'}).reset_index().rename(columns={'id':'count'})\n",
    "train_agg['pct'] = 100.00 * train_agg['count'] / np.sum(train_agg['count'])\n",
    "train_agg"
   ]
  },
  {
   "cell_type": "markdown",
   "metadata": {},
   "source": [
    "# Feature Extraction\n",
    "\n",
    "Some codes below can be changed from `train` to `train_augment`, according to the extracted object.\n",
    "\n",
    "### 1. TF-IDF"
   ]
  },
  {
   "cell_type": "code",
   "execution_count": 158,
   "metadata": {},
   "outputs": [],
   "source": [
    "import re\n",
    "\n",
    "def text_to_word_list(text):\n",
    "    ''' Pre process and convert texts to a list of words '''\n",
    "    text = str(text)\n",
    "    text = text.lower()\n",
    "\n",
    "    # Clean the text\n",
    "    text = re.sub(r\"[^A-Za-z0-9^,!.\\/'+-=]\", \" \", text)\n",
    "    text = re.sub(r\"what's\", \"what is \", text)\n",
    "    text = re.sub(r\"\\'s\", \" \", text)\n",
    "    text = re.sub(r\"\\'ve\", \" have \", text)\n",
    "    text = re.sub(r\"can't\", \"cannot \", text)\n",
    "    text = re.sub(r\"n't\", \" not \", text)\n",
    "    text = re.sub(r\"i'm\", \"i am \", text)\n",
    "    text = re.sub(r\"\\'re\", \" are \", text)\n",
    "    text = re.sub(r\"\\'d\", \" would \", text)\n",
    "    text = re.sub(r\"\\'ll\", \" will \", text)\n",
    "    text = re.sub(r\",\", \" \", text)\n",
    "    text = re.sub(r\"\\.\", \" \", text)\n",
    "    text = re.sub(r\"!\", \" ! \", text)\n",
    "    text = re.sub(r\"\\/\", \" \", text)\n",
    "    text = re.sub(r\"\\^\", \" ^ \", text)\n",
    "    text = re.sub(r\"\\+\", \" + \", text)\n",
    "    text = re.sub(r\"\\-\", \" - \", text)\n",
    "    text = re.sub(r\"\\=\", \" = \", text)\n",
    "    text = re.sub(r\"'\", \" \", text)\n",
    "    text = re.sub(r\"(\\d+)(k)\", r\"\\g<1>000\", text)\n",
    "    text = re.sub(r\":\", \" : \", text)\n",
    "    text = re.sub(r\" e g \", \" eg \", text)\n",
    "    text = re.sub(r\" b g \", \" bg \", text)\n",
    "    text = re.sub(r\" u s \", \" american \", text)\n",
    "    text = re.sub(r\"\\0s\", \"0\", text)\n",
    "    text = re.sub(r\" 9 11 \", \"911\", text)\n",
    "    text = re.sub(r\"e - mail\", \"email\", text)\n",
    "    text = re.sub(r\"j k\", \"jk\", text)\n",
    "    text = re.sub(r\"\\s{2,}\", \" \", text)\n",
    "\n",
    "    return text"
   ]
  },
  {
   "cell_type": "code",
   "execution_count": 159,
   "metadata": {},
   "outputs": [],
   "source": [
    "from nltk.tokenize import word_tokenize\n",
    "from nltk.corpus import stopwords\n",
    "stop = set(stopwords.words('english'))\n",
    "\n",
    "import spacy\n",
    "nlp = spacy.load('en')\n",
    "\n",
    "from sklearn.feature_extraction.text import TfidfVectorizer, CountVectorizer"
   ]
  },
  {
   "cell_type": "code",
   "execution_count": 161,
   "metadata": {},
   "outputs": [],
   "source": [
    "qid_dict = {}\n",
    "\n",
    "for i,series in train.iterrows():\n",
    "# for i,series in train_augment.iterrows():\n",
    "    if series['qid1'] not in qid_dict:\n",
    "        qid_dict[series['qid1']] = series['question1']\n",
    "    if series['qid2'] not in qid_dict:\n",
    "        qid_dict[series['qid2']] = series['question2']"
   ]
  },
  {
   "cell_type": "code",
   "execution_count": 162,
   "metadata": {},
   "outputs": [],
   "source": [
    "txt_raw = []\n",
    "\n",
    "for key, value in qid_dict.items():\n",
    "    txt_raw.append(str(value))"
   ]
  },
  {
   "cell_type": "code",
   "execution_count": 163,
   "metadata": {},
   "outputs": [],
   "source": [
    "txt = []\n",
    "for i in range(0, len(txt_raw)):\n",
    "    txt.append(text_to_word_list(txt_raw[i]))"
   ]
  },
  {
   "cell_type": "code",
   "execution_count": 169,
   "metadata": {},
   "outputs": [
    {
     "name": "stderr",
     "output_type": "stream",
     "text": [
      "/home/engineering/anaconda2/envs/py35/lib/python3.5/site-packages/sklearn/feature_extraction/text.py:1059: FutureWarning: Conversion of the second argument of issubdtype from `float` to `np.floating` is deprecated. In future, it will be treated as `np.float64 == np.dtype(float).type`.\n",
      "  if hasattr(X, 'dtype') and np.issubdtype(X.dtype, np.float):\n"
     ]
    }
   ],
   "source": [
    "# get tfidf value\n",
    "vectorizer = TfidfVectorizer(min_df=10, max_features=1000000, tokenizer=word_tokenize, ngram_range=(1,1))\n",
    "vz = vectorizer.fit(txt)\n",
    "\n",
    "q1 = vz.transform(train['question1'])\n",
    "q2 = vz.transform(train['question2'])\n",
    "\n",
    "# q1 = vz.transform(train_augment['question1'])\n",
    "# q2 = vz.transform(train_augment['question2'])"
   ]
  },
  {
   "cell_type": "markdown",
   "metadata": {},
   "source": [
    "### 2. Get distance metrics between each question pair\n",
    "\n",
    "- Cosine distance\n",
    "- Jaccard distance\n",
    "- Levenshtein distance for first and last word on question pair"
   ]
  },
  {
   "cell_type": "code",
   "execution_count": 171,
   "metadata": {},
   "outputs": [],
   "source": [
    "# count occurence of each word on every question\n",
    "# will be used to calculate cosine distance\n",
    "\n",
    "count_vectorizer = CountVectorizer(min_df=10, ngram_range=(1,1))\n",
    "cvz = count_vectorizer.fit(txt)\n",
    "\n",
    "q1_ct = cvz.transform(train['question1'])\n",
    "q2_ct = cvz.transform(train['question2'])\n",
    "# q1_ct = cvz.transform(train_augment['question1'])\n",
    "# q2_ct = cvz.transform(train_augment['question2'])"
   ]
  },
  {
   "cell_type": "code",
   "execution_count": 172,
   "metadata": {},
   "outputs": [],
   "source": [
    "# calculate cosine distance\n",
    "from sklearn.metrics.pairwise import paired_cosine_distances\n",
    "\n",
    "dist = paired_cosine_distances(q1_ct, q2_ct)\n",
    "\n",
    "train['cosine_dist'] = dist\n",
    "# train_augment['cosine_dist'] = dist"
   ]
  },
  {
   "cell_type": "code",
   "execution_count": 173,
   "metadata": {},
   "outputs": [],
   "source": [
    "def jaccard_dist(str1, str2):\n",
    "    str1 = set(str1.split())\n",
    "    str2 = set(str2.split())\n",
    "    return float(len(str1 & str2)) / len(str1 | str2)\n",
    "\n",
    "train['jaccard_dist'] = train.apply(lambda x: jaccard_dist(x['question1'],x['question2']), axis=1)\n",
    "# train_augment['jaccard_dist'] = train_augment.apply(lambda x: jaccard_dist(x['question1'],x['question2']), axis=1)"
   ]
  },
  {
   "cell_type": "code",
   "execution_count": 174,
   "metadata": {},
   "outputs": [],
   "source": [
    "from nltk.metrics import edit_distance\n",
    "\n",
    "train['edit_dist_first_word'] = train.apply(lambda x: edit_distance(x['question1'].split()[0], x['question2'].split()[0]) if (x['question1'] != '' and x['question2'] != '') else 999, axis=1)\n",
    "train['edit_dist_last_word'] = train.apply(lambda x: edit_distance(x['question1'].split()[-1], x['question2'].split()[-1]) if (x['question1'] != '' and x['question2'] != '') else 999, axis=1)\n",
    "\n",
    "# train_augment['edit_dist_first_word'] = train_augment.apply(lambda x: edit_distance(x['question1'].split()[0], x['question2'].split()[0]) if (x['question1'] != '' and x['question2'] != '') else 999, axis=1)\n",
    "# train_augment['edit_dist_last_word'] = train_augment.apply(lambda x: edit_distance(x['question1'].split()[-1], x['question2'].split()[-1]) if (x['question1'] != '' and x['question2'] != '') else 999, axis=1)"
   ]
  },
  {
   "cell_type": "markdown",
   "metadata": {},
   "source": [
    "### 3. Get sentence characteristics\n",
    "\n",
    "- word count\n",
    "- unique word count\n",
    "- sentence count\n",
    "- common words between question pair"
   ]
  },
  {
   "cell_type": "code",
   "execution_count": 177,
   "metadata": {},
   "outputs": [],
   "source": [
    "train['question1_wc'] = train['question1'].apply(lambda sent: len(sent.split()))\n",
    "train['question2_wc'] = train['question2'].apply(lambda sent: len(sent.split()))\n",
    "\n",
    "# train_augment['question1_wc'] = train_augment['question1'].apply(lambda sent: len(sent.split()))\n",
    "# train_augment['question2_wc'] = train_augment['question2'].apply(lambda sent: len(sent.split()))"
   ]
  },
  {
   "cell_type": "code",
   "execution_count": 178,
   "metadata": {},
   "outputs": [],
   "source": [
    "train['diff_wc'] = abs(train['question1_wc'] - train['question2_wc'])\n",
    "# train_augment['diff_wc'] = abs(train_augment['question1_wc'] - train_augment['question2_wc'])"
   ]
  },
  {
   "cell_type": "code",
   "execution_count": 179,
   "metadata": {},
   "outputs": [],
   "source": [
    "# extract unique words\n",
    "\n",
    "from string import punctuation\n",
    "\n",
    "def unique_words(sentence):\n",
    "    for punc in punctuation:\n",
    "        sentence = sentence.replace(punc,'')\n",
    "    return [w for w in set(sentence.lower().split())]"
   ]
  },
  {
   "cell_type": "code",
   "execution_count": 180,
   "metadata": {},
   "outputs": [],
   "source": [
    "train['question1_unique_wc'] = train['question1'].apply(lambda sent: len(unique_words(sent)))\n",
    "train['question2_unique_wc'] = train['question2'].apply(lambda sent: len(unique_words(sent)))\n",
    "\n",
    "# train_augment['question1_unique_wc'] = train_augment['question1'].apply(lambda sent: len(unique_words(sent)))\n",
    "# train_augment['question2_unique_wc'] = train_augment['question2'].apply(lambda sent: len(unique_words(sent)))"
   ]
  },
  {
   "cell_type": "code",
   "execution_count": 181,
   "metadata": {},
   "outputs": [],
   "source": [
    "train['diff_unique_wc'] = abs(train['question1_unique_wc'] - train['question2_unique_wc'])\n",
    "\n",
    "# train_augment['diff_unique_wc'] = abs(train_augment['question1_unique_wc'] - train_augment['question2_unique_wc'])"
   ]
  },
  {
   "cell_type": "code",
   "execution_count": 182,
   "metadata": {},
   "outputs": [],
   "source": [
    "import re\n",
    "\n",
    "def count_sentences(question):\n",
    "    count = 0\n",
    "    for sentence in re.split(r'[.!?]+', question):\n",
    "        if sentence == '':\n",
    "            continue\n",
    "        else:\n",
    "            count += 1\n",
    "    return count"
   ]
  },
  {
   "cell_type": "code",
   "execution_count": 183,
   "metadata": {},
   "outputs": [],
   "source": [
    "train['question1_sc'] = train['question1'].apply(lambda q: count_sentences(q))\n",
    "train['question2_sc'] = train['question2'].apply(lambda q: count_sentences(q))\n",
    "\n",
    "# train_augment['question1_sc'] = train_augment['question1'].apply(lambda q: count_sentences(q))\n",
    "# train_augment['question2_sc'] = train_augment['question2'].apply(lambda q: count_sentences(q))"
   ]
  },
  {
   "cell_type": "code",
   "execution_count": 184,
   "metadata": {},
   "outputs": [],
   "source": [
    "train['question1_word_list'] = train.apply(lambda x: set(x['question1'].split()), axis=1)\n",
    "train['question2_word_list'] = train.apply(lambda x: set(x['question2'].split()), axis=1)\n",
    "\n",
    "train['common_words'] = train.apply(lambda x: x['question1_word_list'].intersection(x['question2_word_list']), axis=1)\n",
    "train['num_common_words'] = train.apply(lambda x: len(x['common_words']), axis=1)\n",
    "\n",
    "# train_augment['question1_word_list'] = train_augment.apply(lambda x: set(x['question1'].split()), axis=1)\n",
    "# train_augment['question2_word_list'] = train_augment.apply(lambda x: set(x['question2'].split()), axis=1)\n",
    "\n",
    "# train_augment['common_words'] = train_augment.apply(lambda x: x['question1_word_list'].intersection(x['question2_word_list']), axis=1)\n",
    "# train_augment['num_common_words'] = train_augment.apply(lambda x: len(x['common_words']), axis=1)"
   ]
  },
  {
   "cell_type": "markdown",
   "metadata": {},
   "source": [
    "### 4. Extract Named Entity Recognition (NER)\n",
    "\n",
    "From the extracted NERs, we'll observe the sentence characteristics.\n",
    "\n",
    "NERs of augmented training set is assumed to be similar to the preset text (since it is only replaced by its synonym), so we don't need to run the code for augmented training set."
   ]
  },
  {
   "cell_type": "code",
   "execution_count": 185,
   "metadata": {},
   "outputs": [],
   "source": [
    "def process_ner(doc):\n",
    "    result = []\n",
    "    \n",
    "    if type(doc) == list:\n",
    "        for row in doc:\n",
    "            tmp = str(row)\n",
    "            if len(row.ents) > 0:\n",
    "                for entity in row.ents:\n",
    "                    tmp = tmp.replace(entity.text, entity.label_)\n",
    "                result.append(tmp)\n",
    "            else:\n",
    "                result.append(tmp)\n",
    "                continue\n",
    "    return result"
   ]
  },
  {
   "cell_type": "code",
   "execution_count": 192,
   "metadata": {},
   "outputs": [],
   "source": [
    "train_q1 = train['question1'].tolist()\n",
    "train_q2 = train['question2'].tolist()\n",
    "# train_augment_q1 = train_augment['question1'].tolist()\n",
    "# train_augment_q2 = train_augment['question2'].tolist()\n",
    "\n",
    "\n",
    "doc_train_q1 = []\n",
    "doc_train_q2 = []\n",
    "\n",
    "for i in range(0, len(train_q1)):\n",
    "    try:\n",
    "        doc_train_q1.append(nlp(train_q1[i]))\n",
    "        doc_train_q2.append(nlp(train_q2[i]))\n",
    "    except Exception as e:\n",
    "        print(e)\n",
    "        break\n",
    "        \n",
    "# for i in range(0, len(train_augment_q1)):\n",
    "#     try:\n",
    "#         doc_train_q1.append(nlp(train_augment_q1[i]))\n",
    "#         doc_train_q2.append(nlp(train_augment_q2[i]))\n",
    "#     except Exception as e:\n",
    "#         print(e)\n",
    "#         break"
   ]
  },
  {
   "cell_type": "code",
   "execution_count": 193,
   "metadata": {},
   "outputs": [],
   "source": [
    "train['question1_ner'] = process_ner(doc_train_q1)\n",
    "train['question2_ner'] = process_ner(doc_train_q2)\n",
    "\n",
    "# train_augment['question1_ner'] = process_ner(doc_train_q1)\n",
    "# train_augment['question2_ner'] = process_ner(doc_train_q2)"
   ]
  },
  {
   "cell_type": "code",
   "execution_count": 194,
   "metadata": {},
   "outputs": [],
   "source": [
    "train['question1_word_list_ner'] = train.apply(lambda x: set(x['question1_ner'].split()), axis=1)\n",
    "train['question2_word_list_ner'] = train.apply(lambda x: set(x['question2_ner'].split()), axis=1)\n",
    "\n",
    "train['common_words_ner'] = train.apply(lambda x: x['question1_word_list_ner'].intersection(x['question2_word_list_ner']), axis=1)\n",
    "train['num_common_words_ner'] = train.apply(lambda x: len(x['common_words_ner']), axis=1)\n",
    "\n",
    "# train_augment['question1_word_list_ner'] = train_augment.apply(lambda x: set(x['question1_ner'].split()), axis=1)\n",
    "# train_augment['question2_word_list_ner'] = train_augment.apply(lambda x: set(x['question2_ner'].split()), axis=1)\n",
    "\n",
    "# train_augment['common_words_ner'] = train_augment.apply(lambda x: x['question1_word_list_ner'].intersection(x['question2_word_list_ner']), axis=1)\n",
    "# train_augment['num_common_words_ner'] = train_augment.apply(lambda x: len(x['common_words_ner']), axis=1)"
   ]
  },
  {
   "cell_type": "code",
   "execution_count": 196,
   "metadata": {},
   "outputs": [],
   "source": [
    "train['pct_common_words'] = train.apply(lambda x: x['num_common_words'] / np.max(x[['question1_unique_wc','question2_unique_wc']]) * 100, axis=1)\n",
    "train['pct_common_words_ner'] = train.apply(lambda x: x['num_common_words_ner'] / np.max(x[['question1_unique_wc','question2_unique_wc']]) * 100, axis=1)\n",
    "\n",
    "# train_augment['pct_common_words'] = train_augment.apply(lambda x: x['num_common_words'] / np.max(x[['question1_unique_wc','question2_unique_wc']]) * 100, axis=1)\n",
    "# train_augment['pct_common_words_ner'] = train_augment.apply(lambda x: x['num_common_words_ner'] / np.max(x[['question1_unique_wc','question2_unique_wc']]) * 100, axis=1)"
   ]
  },
  {
   "cell_type": "markdown",
   "metadata": {},
   "source": [
    "### 5. Use Part-of-Speech (POS) tagging\n",
    "\n",
    "We will calculate occurence of each part of speech within question pairs.\n",
    "\n",
    "POS tag of augmented training set is assumed to be similar to the preset text (since it is only replaced by its synonym), so we don't need to run the code for augmented training set."
   ]
  },
  {
   "cell_type": "code",
   "execution_count": 197,
   "metadata": {},
   "outputs": [],
   "source": [
    "pos_list = ['NOUN','VERB','PUNCT','SYM','X','ADJ','CONJ','NUM','DET','ADV','ADP','PROPN','PART','SPACE','INTJ']\n",
    "\n",
    "def calculate_pos_tag(doc):\n",
    "    result = []\n",
    "    for row in doc:\n",
    "        # initialize empty value for each row \n",
    "        pos_tmp = {}\n",
    "        for idx in pos_list:\n",
    "            pos_tmp[idx] = 0\n",
    "            \n",
    "        for token in row:\n",
    "            if token.pos_ in pos_tmp:\n",
    "                pos_tmp[token.pos_] += 1\n",
    "        result.append(pos_tmp)\n",
    "    return result"
   ]
  },
  {
   "cell_type": "code",
   "execution_count": 198,
   "metadata": {},
   "outputs": [],
   "source": [
    "q1_pos_tag = calculate_pos_tag(doc_train_q1)\n",
    "q2_pos_tag = calculate_pos_tag(doc_train_q2)"
   ]
  },
  {
   "cell_type": "code",
   "execution_count": null,
   "metadata": {},
   "outputs": [],
   "source": [
    "def convert_pos_tag(pos_tag_list):\n",
    "    tags = []\n",
    "    for i in range(0, len(pos_tag_list)):\n",
    "        tmp = []\n",
    "        for key, value in pos_tag_list[i].items():\n",
    "            tmp.append(value)\n",
    "        tags.append(tmp)\n",
    "    return np.array(tags)"
   ]
  },
  {
   "cell_type": "code",
   "execution_count": null,
   "metadata": {},
   "outputs": [],
   "source": [
    "q1_tag = convert_pos_tag(q1_pos_tag)\n",
    "q2_tag = convert_pos_tag(q2_pos_tag)"
   ]
  },
  {
   "cell_type": "code",
   "execution_count": null,
   "metadata": {},
   "outputs": [],
   "source": [
    "_q1_pos_tag = []\n",
    "_q2_pos_tag = []\n",
    "\n",
    "for i in range(0, len(train)):\n",
    "# for i in range(0, len(train_augment)):\n",
    "    _q1_pos_tag.append(q1_tag[i])\n",
    "    _q2_pos_tag.append(q2_tag[i])\n",
    "               \n",
    "train['q1_pos_tag'] = _q1_pos_tag\n",
    "train['q2_pos_tag'] = _q2_pos_tag\n",
    "\n",
    "# train_augment['q1_pos_tag'] = _q1_pos_tag\n",
    "# train_augment['q2_pos_tag'] = _q2_pos_tag"
   ]
  },
  {
   "cell_type": "code",
   "execution_count": null,
   "metadata": {},
   "outputs": [],
   "source": [
    "# Save\n",
    "# np.save('data/preset/q1_pos_tag.npy', q1_pos_tag) \n",
    "# np.save('data/preset/q2_pos_tag.npy', q2_pos_tag) \n",
    "\n",
    "# np.save('data/augmented/q1_pos_tag.npy', q1_pos_tag) \n",
    "# np.save('data/augmented/q2_pos_tag.npy', q2_pos_tag) "
   ]
  },
  {
   "cell_type": "code",
   "execution_count": 215,
   "metadata": {},
   "outputs": [],
   "source": [
    "# write collected features to csv\n",
    "# train.to_csv(path_or_buf=\"../dataset/train_feats_init.csv\", header=True, index=False)\n",
    "\n",
    "# alternative to save preprocessed augmented data without getting the NER & POS tag by running the code:\n",
    "# assuming the NER and POS tag will be similar to the default training set\n",
    "# train = pd.read_csv(\"../dataset/train_feats_init.csv\")\n",
    "train_augmented = train_augment.merge(\n",
    "    train[['id','qid1','qid2','question1_ner','question2_ner',\n",
    "                   'question1_word_list_ner','question2_word_list_ner','common_words_ner',\n",
    "                   'num_common_words_ner','pct_common_words_ner','q1_pos_tag','q2_pos_tag']],\n",
    "    how='left',\n",
    "    on=['id','qid1','qid2']\n",
    ")\n",
    "\n",
    "train_augmented.to_csv(path_or_buf=\"../dataset/train_augmented.csv\", header=True, index=False)"
   ]
  },
  {
   "cell_type": "markdown",
   "metadata": {},
   "source": [
    "**Use GLOVE word embedding**"
   ]
  },
  {
   "cell_type": "code",
   "execution_count": 201,
   "metadata": {},
   "outputs": [
    {
     "name": "stderr",
     "output_type": "stream",
     "text": [
      "/home/engineering/anaconda2/envs/py35/lib/python3.5/site-packages/h5py/__init__.py:36: FutureWarning: Conversion of the second argument of issubdtype from `float` to `np.floating` is deprecated. In future, it will be treated as `np.float64 == np.dtype(float).type`.\n",
      "  from ._conv import register_converters as _register_converters\n",
      "Using TensorFlow backend.\n"
     ]
    }
   ],
   "source": [
    "import csv, json\n",
    "from zipfile import ZipFile\n",
    "from os.path import expanduser, exists\n",
    "\n",
    "from keras.preprocessing.text import Tokenizer\n",
    "from keras.preprocessing.sequence import pad_sequences\n",
    "from keras.utils.data_utils import get_file"
   ]
  },
  {
   "cell_type": "code",
   "execution_count": 213,
   "metadata": {},
   "outputs": [],
   "source": [
    "KERAS_DATASETS_DIR = expanduser('~/.keras/datasets/')\n",
    "GLOVE_ZIP_FILE_URL = 'http://nlp.stanford.edu/data/glove.840B.300d.zip'\n",
    "GLOVE_ZIP_FILE = 'glove.840B.300d.zip'\n",
    "GLOVE_FILE = 'glove.840B.300d.txt'\n",
    "\n",
    "dataset_type = 'preset' # value: preset or augmented\n",
    "\n",
    "Q1_TRAINING_DATA_FILE = 'data/' + dataset_type + '/q1_train.npy'\n",
    "Q2_TRAINING_DATA_FILE = 'data/' + dataset_type + '/q2_train.npy'\n",
    "LABEL_TRAINING_DATA_FILE = 'data/' + dataset_type + '/label_train.npy'\n",
    "WORD_EMBEDDING_MATRIX_FILE = 'data/' + dataset_type + '/word_embedding_matrix.npy'\n",
    "NB_WORDS_DATA_FILE = 'data/' + dataset_type + '/nb_words.json'\n",
    "MAX_NB_WORDS = 200000\n",
    "MAX_SEQUENCE_LENGTH = 25\n",
    "EMBEDDING_DIM = 300"
   ]
  },
  {
   "cell_type": "code",
   "execution_count": 204,
   "metadata": {},
   "outputs": [
    {
     "name": "stdout",
     "output_type": "stream",
     "text": [
      "Words in index: 85518\n"
     ]
    }
   ],
   "source": [
    "tokenizer = Tokenizer(num_words=MAX_NB_WORDS)\n",
    "tokenizer.fit_on_texts(txt)\n",
    "question1_word_sequences = tokenizer.texts_to_sequences(train['question1'])\n",
    "question2_word_sequences = tokenizer.texts_to_sequences(train['question2'])\n",
    "# question1_word_sequences = tokenizer.texts_to_sequences(train_augment['question1'])\n",
    "# question2_word_sequences = tokenizer.texts_to_sequences(train_augment['question2'])\n",
    "word_index = tokenizer.word_index\n",
    "\n",
    "print(\"Words in index: %d\" % len(word_index))"
   ]
  },
  {
   "cell_type": "code",
   "execution_count": 205,
   "metadata": {},
   "outputs": [
    {
     "name": "stdout",
     "output_type": "stream",
     "text": [
      "Processing glove.840B.300d.txt\n",
      "Word embeddings: 2196016\n"
     ]
    }
   ],
   "source": [
    "if not exists(KERAS_DATASETS_DIR + GLOVE_ZIP_FILE):\n",
    "    zipfile = ZipFile(get_file(GLOVE_ZIP_FILE, GLOVE_ZIP_FILE_URL))\n",
    "    zipfile.extract(GLOVE_FILE, path=KERAS_DATASETS_DIR)\n",
    "    \n",
    "print(\"Processing\", GLOVE_FILE)\n",
    "\n",
    "embeddings_index = {}\n",
    "with open(KERAS_DATASETS_DIR + GLOVE_FILE, encoding='utf-8') as f:\n",
    "    for line in f:\n",
    "        values = line.split(' ')\n",
    "        word = values[0]\n",
    "        embedding = np.asarray(values[1:], dtype='float32')\n",
    "        embeddings_index[word] = embedding\n",
    "\n",
    "print('Word embeddings: %d' % len(embeddings_index))"
   ]
  },
  {
   "cell_type": "code",
   "execution_count": 206,
   "metadata": {},
   "outputs": [
    {
     "name": "stdout",
     "output_type": "stream",
     "text": [
      "Null word embeddings: 18731\n"
     ]
    }
   ],
   "source": [
    "nb_words = min(MAX_NB_WORDS, len(word_index))\n",
    "word_embedding_matrix = np.zeros((nb_words + 1, EMBEDDING_DIM))\n",
    "for word, i in word_index.items():\n",
    "    if i > MAX_NB_WORDS:\n",
    "        continue\n",
    "    embedding_vector = embeddings_index.get(word)\n",
    "    if embedding_vector is not None:\n",
    "        word_embedding_matrix[i] = embedding_vector\n",
    "\n",
    "print('Null word embeddings: %d' % np.sum(np.sum(word_embedding_matrix, axis=1) == 0))"
   ]
  },
  {
   "cell_type": "code",
   "execution_count": 207,
   "metadata": {},
   "outputs": [
    {
     "name": "stdout",
     "output_type": "stream",
     "text": [
      "Shape of question1 data tensor: (478922, 25)\n",
      "Shape of question2 data tensor: (478922, 25)\n",
      "Shape of label tensor: (404290,)\n"
     ]
    }
   ],
   "source": [
    "q1_data = pad_sequences(question1_word_sequences, maxlen=MAX_SEQUENCE_LENGTH)\n",
    "q2_data = pad_sequences(question2_word_sequences, maxlen=MAX_SEQUENCE_LENGTH)\n",
    "labels = np.array(train_augment['is_duplicate'], dtype=int)\n",
    "print('Shape of question1 data tensor:', q1_data.shape)\n",
    "print('Shape of question2 data tensor:', q2_data.shape)\n",
    "print('Shape of label tensor:', labels.shape)"
   ]
  },
  {
   "cell_type": "markdown",
   "metadata": {},
   "source": [
    "The word embeddings will be concatenated with other extracted features."
   ]
  },
  {
   "cell_type": "code",
   "execution_count": 217,
   "metadata": {},
   "outputs": [],
   "source": [
    "np.save(open(Q1_TRAINING_DATA_FILE, 'wb'), q1_data)\n",
    "np.save(open(Q2_TRAINING_DATA_FILE, 'wb'), q2_data)\n",
    "np.save(open(LABEL_TRAINING_DATA_FILE, 'wb'), labels)\n",
    "np.save(open(WORD_EMBEDDING_MATRIX_FILE, 'wb'), word_embedding_matrix)\n",
    "with open(NB_WORDS_DATA_FILE, 'w') as f:\n",
    "    json.dump({'nb_words': nb_words}, f)"
   ]
  }
 ],
 "metadata": {
  "kernelspec": {
   "display_name": "Python [py35]",
   "language": "python",
   "name": "Python [py35]"
  },
  "language_info": {
   "codemirror_mode": {
    "name": "ipython",
    "version": 3
   },
   "file_extension": ".py",
   "mimetype": "text/x-python",
   "name": "python",
   "nbconvert_exporter": "python",
   "pygments_lexer": "ipython3",
   "version": "3.5.2"
  }
 },
 "nbformat": 4,
 "nbformat_minor": 2
}
